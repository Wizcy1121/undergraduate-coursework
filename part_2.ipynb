{
 "cells": [
  {
   "cell_type": "markdown",
   "metadata": {},
   "source": [
    "## Week 16 Final Coursework, Part II\n",
    "\n",
    "#### Spring Semester, 2020\n",
    "\n",
    "## Question 6\n",
    "\n",
    "Use the data in TRAFFIC2.xls. Consider the following regression model:\n",
    "\n",
    "\\begin{equation}\n",
    "    prcfat = \\beta_1 + \\beta_2 \\cdot wkends + \\beta_3 \\cdot unem + \\beta_4 \\cdot spdlaw\n",
    "        + \\beta_5 \\cdot beltlaw + \\beta_6 \\cdot t \n",
    "        + \\beta_7 \\cdot feb + \\cdots + \\beta_{17} \\cdot dec + \\epsilon\n",
    "\\end{equation}\n",
    "where \n",
    "- $prcfat$ : percentage of statewide fatal accidents\n",
    "- $wkends$ : number of weekends in month\n",
    "- $unem$ : state unemployment rate\n",
    "- $spdlaw$ : dummy variable, =1 after the 65 mph law is in effect\n",
    "- $beltlaw$ : dummy variable, =1 after the seatbelt law is in effect\n",
    "- $t$ : time, we introduce a linear time trend\n",
    "- $feb, \\cdots, dec$ : monthly dummy variables\n",
    "\n",
    "#### You are required to do the following jobs:\n",
    "\n",
    "- Basic data plots\n",
    "- OLS and basic hypothesis test\n",
    "- Test of $AR(1)$ and general serial correlations\n",
    "- The heteroskedasticity and autocorrelation consistent standard error (HACSE)\n",
    "- The feasible generalized least squares (FGLS) estimation\n",
    "\n",
    "#### For more details, see the guidelines in each block below."
   ]
  },
  {
   "cell_type": "code",
   "execution_count": null,
   "metadata": {},
   "outputs": [],
   "source": []
  },
  {
   "cell_type": "code",
   "execution_count": null,
   "metadata": {},
   "outputs": [],
   "source": []
  },
  {
   "cell_type": "code",
   "execution_count": null,
   "metadata": {},
   "outputs": [],
   "source": []
  },
  {
   "cell_type": "code",
   "execution_count": null,
   "metadata": {},
   "outputs": [],
   "source": []
  },
  {
   "cell_type": "code",
   "execution_count": null,
   "metadata": {},
   "outputs": [],
   "source": []
  },
  {
   "cell_type": "code",
   "execution_count": null,
   "metadata": {},
   "outputs": [],
   "source": []
  },
  {
   "cell_type": "markdown",
   "metadata": {},
   "source": [
    "## 国经管 张丛绎 32018200008"
   ]
  },
  {
   "cell_type": "code",
   "execution_count": 1,
   "metadata": {},
   "outputs": [],
   "source": [
    "import numpy as np\n",
    "import matplotlib.pyplot as plt\n",
    "import pandas as pd\n",
    "from numpy.linalg import inv\n",
    "from scipy import stats\n",
    "from scipy.sparse import diags"
   ]
  },
  {
   "cell_type": "code",
   "execution_count": 2,
   "metadata": {},
   "outputs": [],
   "source": [
    "lab0 = ['year', 'totacc', 'fatacc', 'injacc', 'pdoacc', 'ntotacc', 'nfatacc', \n",
    "        'ninjacc', 'npdoacc', 'rtotacc', 'rfatacc', 'rinjacc', 'rpdoacc',\n",
    "        'ushigh', 'cntyrds', 'strtes', 't', 'tsq', 'unem', 'spdlaw', 'beltlaw',   \n",
    "        'wkends', 'feb', 'mar', 'apr', 'may', 'jun', 'jul', 'aug', 'sep', 'oct',       \n",
    "        'nov', 'dec', 'ltotacc', 'lfatacc', 'prcfat', 'prcrfat', 'lrtotacc',  \n",
    "        'lrfatacc', 'lntotacc', 'lnfatacc', 'prcnfat', 'lushigh', 'lcntyrds',  \n",
    "        'lstrtes', 'spdt', 'beltt', 'prcfat_1']\n",
    "\n",
    "data0 = pd.read_excel('traffic2.xls', names=lab0)\n",
    "data0;"
   ]
  },
  {
   "cell_type": "markdown",
   "metadata": {},
   "source": [
    "## Part (i). \n",
    "\n",
    "#### Create dataframe that stores observations of the dependent and independent variables"
   ]
  },
  {
   "cell_type": "code",
   "execution_count": 3,
   "metadata": {},
   "outputs": [],
   "source": [
    "lab = ['prcfat', 'wkends', 'unem', 'spdlaw', 'beltlaw', 't', 'feb', 'mar',\n",
    "       'apr', 'may', 'jun', 'jul', 'aug', 'sep', 'oct', 'nov', 'dec']  # Read the data for the dependent and independent variables\n",
    "data = data0[lab]\n",
    "n, K = np.shape(data) # number of observations, number of independent variables"
   ]
  },
  {
   "cell_type": "code",
   "execution_count": 4,
   "metadata": {},
   "outputs": [
    {
     "data": {
      "text/html": [
       "<div>\n",
       "<style scoped>\n",
       "    .dataframe tbody tr th:only-of-type {\n",
       "        vertical-align: middle;\n",
       "    }\n",
       "\n",
       "    .dataframe tbody tr th {\n",
       "        vertical-align: top;\n",
       "    }\n",
       "\n",
       "    .dataframe thead th {\n",
       "        text-align: right;\n",
       "    }\n",
       "</style>\n",
       "<table border=\"1\" class=\"dataframe\">\n",
       "  <thead>\n",
       "    <tr style=\"text-align: right;\">\n",
       "      <th></th>\n",
       "      <th>prcfat</th>\n",
       "      <th>wkends</th>\n",
       "      <th>unem</th>\n",
       "      <th>spdlaw</th>\n",
       "      <th>beltlaw</th>\n",
       "      <th>t</th>\n",
       "      <th>feb</th>\n",
       "      <th>mar</th>\n",
       "      <th>apr</th>\n",
       "      <th>may</th>\n",
       "      <th>jun</th>\n",
       "      <th>jul</th>\n",
       "      <th>aug</th>\n",
       "      <th>sep</th>\n",
       "      <th>oct</th>\n",
       "      <th>nov</th>\n",
       "      <th>dec</th>\n",
       "    </tr>\n",
       "  </thead>\n",
       "  <tbody>\n",
       "    <tr>\n",
       "      <td>0</td>\n",
       "      <td>0.900990</td>\n",
       "      <td>14</td>\n",
       "      <td>7.9</td>\n",
       "      <td>0</td>\n",
       "      <td>0</td>\n",
       "      <td>1</td>\n",
       "      <td>0</td>\n",
       "      <td>0</td>\n",
       "      <td>0</td>\n",
       "      <td>0</td>\n",
       "      <td>0</td>\n",
       "      <td>0</td>\n",
       "      <td>0</td>\n",
       "      <td>0</td>\n",
       "      <td>0</td>\n",
       "      <td>0</td>\n",
       "      <td>0</td>\n",
       "    </tr>\n",
       "    <tr>\n",
       "      <td>1</td>\n",
       "      <td>0.913027</td>\n",
       "      <td>12</td>\n",
       "      <td>8.0</td>\n",
       "      <td>0</td>\n",
       "      <td>0</td>\n",
       "      <td>2</td>\n",
       "      <td>1</td>\n",
       "      <td>0</td>\n",
       "      <td>0</td>\n",
       "      <td>0</td>\n",
       "      <td>0</td>\n",
       "      <td>0</td>\n",
       "      <td>0</td>\n",
       "      <td>0</td>\n",
       "      <td>0</td>\n",
       "      <td>0</td>\n",
       "      <td>0</td>\n",
       "    </tr>\n",
       "    <tr>\n",
       "      <td>2</td>\n",
       "      <td>0.914997</td>\n",
       "      <td>13</td>\n",
       "      <td>7.4</td>\n",
       "      <td>0</td>\n",
       "      <td>0</td>\n",
       "      <td>3</td>\n",
       "      <td>0</td>\n",
       "      <td>1</td>\n",
       "      <td>0</td>\n",
       "      <td>0</td>\n",
       "      <td>0</td>\n",
       "      <td>0</td>\n",
       "      <td>0</td>\n",
       "      <td>0</td>\n",
       "      <td>0</td>\n",
       "      <td>0</td>\n",
       "      <td>0</td>\n",
       "    </tr>\n",
       "    <tr>\n",
       "      <td>3</td>\n",
       "      <td>0.978806</td>\n",
       "      <td>12</td>\n",
       "      <td>7.2</td>\n",
       "      <td>0</td>\n",
       "      <td>0</td>\n",
       "      <td>4</td>\n",
       "      <td>0</td>\n",
       "      <td>0</td>\n",
       "      <td>1</td>\n",
       "      <td>0</td>\n",
       "      <td>0</td>\n",
       "      <td>0</td>\n",
       "      <td>0</td>\n",
       "      <td>0</td>\n",
       "      <td>0</td>\n",
       "      <td>0</td>\n",
       "      <td>0</td>\n",
       "    </tr>\n",
       "    <tr>\n",
       "      <td>4</td>\n",
       "      <td>0.914571</td>\n",
       "      <td>15</td>\n",
       "      <td>6.1</td>\n",
       "      <td>0</td>\n",
       "      <td>0</td>\n",
       "      <td>5</td>\n",
       "      <td>0</td>\n",
       "      <td>0</td>\n",
       "      <td>0</td>\n",
       "      <td>1</td>\n",
       "      <td>0</td>\n",
       "      <td>0</td>\n",
       "      <td>0</td>\n",
       "      <td>0</td>\n",
       "      <td>0</td>\n",
       "      <td>0</td>\n",
       "      <td>0</td>\n",
       "    </tr>\n",
       "    <tr>\n",
       "      <td>...</td>\n",
       "      <td>...</td>\n",
       "      <td>...</td>\n",
       "      <td>...</td>\n",
       "      <td>...</td>\n",
       "      <td>...</td>\n",
       "      <td>...</td>\n",
       "      <td>...</td>\n",
       "      <td>...</td>\n",
       "      <td>...</td>\n",
       "      <td>...</td>\n",
       "      <td>...</td>\n",
       "      <td>...</td>\n",
       "      <td>...</td>\n",
       "      <td>...</td>\n",
       "      <td>...</td>\n",
       "      <td>...</td>\n",
       "      <td>...</td>\n",
       "    </tr>\n",
       "    <tr>\n",
       "      <td>103</td>\n",
       "      <td>0.979847</td>\n",
       "      <td>12</td>\n",
       "      <td>4.7</td>\n",
       "      <td>1</td>\n",
       "      <td>1</td>\n",
       "      <td>104</td>\n",
       "      <td>0</td>\n",
       "      <td>0</td>\n",
       "      <td>0</td>\n",
       "      <td>0</td>\n",
       "      <td>0</td>\n",
       "      <td>0</td>\n",
       "      <td>1</td>\n",
       "      <td>0</td>\n",
       "      <td>0</td>\n",
       "      <td>0</td>\n",
       "      <td>0</td>\n",
       "    </tr>\n",
       "    <tr>\n",
       "      <td>104</td>\n",
       "      <td>0.947175</td>\n",
       "      <td>14</td>\n",
       "      <td>5.0</td>\n",
       "      <td>1</td>\n",
       "      <td>1</td>\n",
       "      <td>105</td>\n",
       "      <td>0</td>\n",
       "      <td>0</td>\n",
       "      <td>0</td>\n",
       "      <td>0</td>\n",
       "      <td>0</td>\n",
       "      <td>0</td>\n",
       "      <td>0</td>\n",
       "      <td>1</td>\n",
       "      <td>0</td>\n",
       "      <td>0</td>\n",
       "      <td>0</td>\n",
       "    </tr>\n",
       "    <tr>\n",
       "      <td>105</td>\n",
       "      <td>0.866921</td>\n",
       "      <td>13</td>\n",
       "      <td>4.6</td>\n",
       "      <td>1</td>\n",
       "      <td>1</td>\n",
       "      <td>106</td>\n",
       "      <td>0</td>\n",
       "      <td>0</td>\n",
       "      <td>0</td>\n",
       "      <td>0</td>\n",
       "      <td>0</td>\n",
       "      <td>0</td>\n",
       "      <td>0</td>\n",
       "      <td>0</td>\n",
       "      <td>1</td>\n",
       "      <td>0</td>\n",
       "      <td>0</td>\n",
       "    </tr>\n",
       "    <tr>\n",
       "      <td>106</td>\n",
       "      <td>0.825499</td>\n",
       "      <td>12</td>\n",
       "      <td>4.9</td>\n",
       "      <td>1</td>\n",
       "      <td>1</td>\n",
       "      <td>107</td>\n",
       "      <td>0</td>\n",
       "      <td>0</td>\n",
       "      <td>0</td>\n",
       "      <td>0</td>\n",
       "      <td>0</td>\n",
       "      <td>0</td>\n",
       "      <td>0</td>\n",
       "      <td>0</td>\n",
       "      <td>0</td>\n",
       "      <td>1</td>\n",
       "      <td>0</td>\n",
       "    </tr>\n",
       "    <tr>\n",
       "      <td>107</td>\n",
       "      <td>0.835961</td>\n",
       "      <td>15</td>\n",
       "      <td>4.8</td>\n",
       "      <td>1</td>\n",
       "      <td>1</td>\n",
       "      <td>108</td>\n",
       "      <td>0</td>\n",
       "      <td>0</td>\n",
       "      <td>0</td>\n",
       "      <td>0</td>\n",
       "      <td>0</td>\n",
       "      <td>0</td>\n",
       "      <td>0</td>\n",
       "      <td>0</td>\n",
       "      <td>0</td>\n",
       "      <td>0</td>\n",
       "      <td>1</td>\n",
       "    </tr>\n",
       "  </tbody>\n",
       "</table>\n",
       "<p>108 rows × 17 columns</p>\n",
       "</div>"
      ],
      "text/plain": [
       "       prcfat  wkends  unem  spdlaw  beltlaw    t  feb  mar  apr  may  jun  \\\n",
       "0    0.900990      14   7.9       0        0    1    0    0    0    0    0   \n",
       "1    0.913027      12   8.0       0        0    2    1    0    0    0    0   \n",
       "2    0.914997      13   7.4       0        0    3    0    1    0    0    0   \n",
       "3    0.978806      12   7.2       0        0    4    0    0    1    0    0   \n",
       "4    0.914571      15   6.1       0        0    5    0    0    0    1    0   \n",
       "..        ...     ...   ...     ...      ...  ...  ...  ...  ...  ...  ...   \n",
       "103  0.979847      12   4.7       1        1  104    0    0    0    0    0   \n",
       "104  0.947175      14   5.0       1        1  105    0    0    0    0    0   \n",
       "105  0.866921      13   4.6       1        1  106    0    0    0    0    0   \n",
       "106  0.825499      12   4.9       1        1  107    0    0    0    0    0   \n",
       "107  0.835961      15   4.8       1        1  108    0    0    0    0    0   \n",
       "\n",
       "     jul  aug  sep  oct  nov  dec  \n",
       "0      0    0    0    0    0    0  \n",
       "1      0    0    0    0    0    0  \n",
       "2      0    0    0    0    0    0  \n",
       "3      0    0    0    0    0    0  \n",
       "4      0    0    0    0    0    0  \n",
       "..   ...  ...  ...  ...  ...  ...  \n",
       "103    0    1    0    0    0    0  \n",
       "104    0    0    1    0    0    0  \n",
       "105    0    0    0    1    0    0  \n",
       "106    0    0    0    0    1    0  \n",
       "107    0    0    0    0    0    1  \n",
       "\n",
       "[108 rows x 17 columns]"
      ]
     },
     "execution_count": 4,
     "metadata": {},
     "output_type": "execute_result"
    }
   ],
   "source": [
    "data"
   ]
  },
  {
   "cell_type": "code",
   "execution_count": null,
   "metadata": {},
   "outputs": [],
   "source": []
  },
  {
   "cell_type": "markdown",
   "metadata": {},
   "source": [
    "#### Plot the key variables\n",
    "\n",
    "- $prcfat$, $wkends$, $unem$, $spdlaw$, $beltlaw$\n",
    "- Use scatter plot, and add the corresponding y-labels."
   ]
  },
  {
   "cell_type": "code",
   "execution_count": 5,
   "metadata": {},
   "outputs": [
    {
     "data": {
      "image/png": "[encoded data removed]",
      "text/plain": [
       "<Figure size 864x864 with 5 Axes>"
      ]
     },
     "metadata": {
      "needs_background": "light"
     },
     "output_type": "display_data"
    }
   ],
   "source": [
    "fig, axes = plt.subplots(5, 1, figsize=(12,12))\n",
    "\n",
    "x_axis = range(n)\n",
    "\n",
    "for i in range(5):\n",
    "    axes[i].scatter(x_axis, data.iloc[:, i], s=5)\n",
    "    axes[i].set_ylabel(lab[i], fontsize=13)\n",
    "    \n",
    "plt.show()"
   ]
  },
  {
   "cell_type": "code",
   "execution_count": null,
   "metadata": {},
   "outputs": [],
   "source": []
  },
  {
   "cell_type": "markdown",
   "metadata": {},
   "source": [
    "### The OLS estimation and the p-values"
   ]
  },
  {
   "cell_type": "code",
   "execution_count": 6,
   "metadata": {},
   "outputs": [],
   "source": [
    "X = np.empty((n, K))            # create empty space to store data for the independent variables \n",
    "X[:, 0] = 1.                    # set the first column of the data matrix X to 1 \n",
    "X[:, 1:] = data.iloc[:, 1:]     # set the remaining columns of the data matrix X\n",
    "y = data.iloc[:, 0]          # data for the dependent variable\n",
    "b = inv(X.T @ X) @ (X.T) @ y         # the OLS estimator b=(X'X)^{-1} X'y\n",
    "\n",
    "ee = y - X @ b         # the residual vector\n",
    "s2 = ee @ ee / (n-K)                 # s^2 = e'e/(n-K)\n",
    "SE = np.sqrt(np.diag(s2 * inv(X.T @ X)))            # the standard error SE(b)\n",
    "\n",
    "t_ts = b / SE                  # the T test statistic\n",
    "t_rv = stats.t(n-K)\n",
    "p_vals = 2 * (1 - t_rv.cdf(abs(t_ts)))           # the p-value"
   ]
  },
  {
   "cell_type": "code",
   "execution_count": 7,
   "metadata": {
    "scrolled": true
   },
   "outputs": [
    {
     "data": {
      "text/plain": [
       "array([ 1.0298e+00,  6.0000e-04, -1.5400e-02,  6.7100e-02, -2.9500e-02,\n",
       "       -2.2000e-03,  9.0000e-04,  1.0000e-04,  5.8200e-02,  7.1600e-02,\n",
       "        1.0130e-01,  1.7660e-01,  1.9260e-01,  1.6000e-01,  1.0100e-01,\n",
       "        1.3900e-02,  9.2000e-03])"
      ]
     },
     "metadata": {},
     "output_type": "display_data"
    },
    {
     "data": {
      "text/plain": [
       "array([0.103 , 0.0062, 0.0055, 0.0206, 0.0232, 0.0004, 0.029 , 0.0274,\n",
       "       0.0278, 0.0276, 0.0281, 0.0273, 0.0274, 0.0282, 0.0277, 0.0281,\n",
       "       0.0279])"
      ]
     },
     "metadata": {},
     "output_type": "display_data"
    },
    {
     "data": {
      "text/plain": [
       "array([ 1.00027e+01,  1.01600e-01, -2.78230e+00,  3.26170e+00,\n",
       "       -1.27010e+00, -5.31150e+00,  2.97000e-02,  3.40000e-03,\n",
       "        2.09280e+00,  2.59160e+00,  3.60440e+00,  6.47900e+00,\n",
       "        7.01810e+00,  5.67370e+00,  3.65140e+00,  4.95600e-01,\n",
       "        3.30300e-01])"
      ]
     },
     "metadata": {},
     "output_type": "display_data"
    },
    {
     "data": {
      "text/plain": [
       "array([0.000e+00, 9.193e-01, 6.600e-03, 1.600e-03, 2.073e-01, 0.000e+00,\n",
       "       9.764e-01, 9.973e-01, 3.920e-02, 1.110e-02, 5.000e-04, 0.000e+00,\n",
       "       0.000e+00, 0.000e+00, 4.000e-04, 6.213e-01, 7.420e-01])"
      ]
     },
     "metadata": {},
     "output_type": "display_data"
    }
   ],
   "source": [
    "ls = [b, SE, t_ts, p_vals]\n",
    "for v in ls:\n",
    "    display(v.round(4))    "
   ]
  },
  {
   "cell_type": "code",
   "execution_count": null,
   "metadata": {},
   "outputs": [],
   "source": []
  },
  {
   "cell_type": "markdown",
   "metadata": {},
   "source": [
    "#### Plot the residual"
   ]
  },
  {
   "cell_type": "code",
   "execution_count": 8,
   "metadata": {},
   "outputs": [
    {
     "data": {
      "image/png": "[encoded data removed]",
      "text/plain": [
       "<Figure size 576x432 with 1 Axes>"
      ]
     },
     "metadata": {
      "needs_background": "light"
     },
     "output_type": "display_data"
    }
   ],
   "source": [
    "fig, ax = plt.subplots(figsize=(8,6))\n",
    "ax.scatter(range(n), ee, s=5)\n",
    "ax.set_xlabel('observation', fontsize=13)\n",
    "ax.set_ylabel('residual', fontsize=13)\n",
    "\n",
    "plt.show()"
   ]
  },
  {
   "cell_type": "code",
   "execution_count": null,
   "metadata": {},
   "outputs": [],
   "source": []
  },
  {
   "cell_type": "markdown",
   "metadata": {},
   "source": [
    "## Part (ii).\n",
    "\n",
    "### Tests of serial correlation\n",
    "\n",
    "Suppose the original model is \n",
    "\n",
    "\\begin{equation}\n",
    "    y_t = \\beta_1 + \\beta_2 x_{t2} + \\cdots + \\beta_K x_{tK} + \\epsilon_t,\n",
    "\\end{equation}\n",
    "\n",
    "where \n",
    "\n",
    "\\begin{equation}\n",
    "    \\epsilon_t = \\rho_1 \\epsilon_{t-1} + \\cdots + \\rho_m \\epsilon_{t-m} + u_t,\n",
    "    \\quad \\{u_t\\} \\; \\text{ is white noise}.\n",
    "\\end{equation}\n",
    "\n",
    "We are interested in testing \n",
    "\n",
    "\\begin{equation}\n",
    "    H_0 : \\rho_1 = \\cdots = \\rho_m = 0.\n",
    "\\end{equation}"
   ]
  },
  {
   "cell_type": "markdown",
   "metadata": {},
   "source": [
    "#### Method 1. \n",
    "\n",
    "We can simply run the following regression\n",
    "\n",
    "\\begin{equation}\n",
    "    e_t = \\rho_1 e_{t-1} + \\cdots + \\rho_m e_{t-m} + u_t\n",
    "\\end{equation}\n",
    "\n",
    "and then test the significance of the estimated $\\rho$ values.\n",
    "\n",
    "In order for this method to work, as we discussed in class, we need to assume strict exogeneity!"
   ]
  },
  {
   "cell_type": "markdown",
   "metadata": {},
   "source": [
    "##### Use method 1 to test  $AR(1)$ serial correlation"
   ]
  },
  {
   "cell_type": "code",
   "execution_count": 9,
   "metadata": {},
   "outputs": [],
   "source": [
    "Xr = np.empty((n-1, 1))          # create empty space to store data \n",
    "\n",
    "Xr[:, 0] = ee[0:n-1]         # set the first column of the data matrix X to residual\n",
    "yr = ee[1:n]\n",
    "br = inv(Xr.T @ Xr) @ (Xr.T) @ yr\n",
    "\n",
    "er = yr - Xr @ br\n",
    "s2r = er @ er / (n-2)\n",
    "SEr = np.sqrt(np.diag(s2r * inv(Xr.T @ Xr)))\n",
    "ts = stats.t(n-2)\n",
    "tr = br / SEr\n",
    "pr = 2 * (1 - ts.cdf(abs(tr)))"
   ]
  },
  {
   "cell_type": "code",
   "execution_count": 10,
   "metadata": {},
   "outputs": [
    {
     "data": {
      "text/plain": [
       "array([0.28157532])"
      ]
     },
     "metadata": {},
     "output_type": "display_data"
    },
    {
     "data": {
      "text/plain": [
       "array([0.09389555])"
      ]
     },
     "metadata": {},
     "output_type": "display_data"
    },
    {
     "data": {
      "text/plain": [
       "array([2.9988143])"
      ]
     },
     "metadata": {},
     "output_type": "display_data"
    },
    {
     "data": {
      "text/plain": [
       "array([0.0034])"
      ]
     },
     "metadata": {},
     "output_type": "display_data"
    }
   ],
   "source": [
    "display(br, SEr, tr, pr.round(4))"
   ]
  },
  {
   "cell_type": "code",
   "execution_count": null,
   "metadata": {},
   "outputs": [],
   "source": []
  },
  {
   "cell_type": "markdown",
   "metadata": {},
   "source": [
    "#### Is there obvious $AR(1)$ serial correlation?"
   ]
  },
  {
   "cell_type": "markdown",
   "metadata": {},
   "source": [
    "From the output, we can find that $\\rho = 0.28$ with t-statistic $= 2.999$ and $p$-value $= 0.003$, which has a very strong evidence of positive serial correlation according to the 1% level."
   ]
  },
  {
   "cell_type": "code",
   "execution_count": null,
   "metadata": {},
   "outputs": [],
   "source": []
  },
  {
   "cell_type": "markdown",
   "metadata": {},
   "source": [
    "#### Method 2. The Breusch-Godfrey (BG) Test\n",
    "\n",
    "The downside of working with method 1, as we discussed in class, is that\n",
    "- we need to assume strict exogeneity!\n",
    "\n",
    "To bypass this inconvenience, we can use the BG test. \n",
    "We introduce all independent variables as controls and run\n",
    "\n",
    "\\begin{equation}\n",
    "    e_t \\overset{OLS}{\\longrightarrow} e_{t-1}, \\cdots, e_{t-m}, x_{t2}, \\cdots, x_{tK}.\n",
    "\\end{equation}\n",
    "\n",
    "One can show that \n",
    "\n",
    "\\begin{equation}\n",
    "    LM \\equiv (n-m) R^2 \\overset{d}{\\longrightarrow} \\chi^2 (m).\n",
    "\\end{equation}"
   ]
  },
  {
   "cell_type": "markdown",
   "metadata": {},
   "source": [
    "##### Case 1. Special case $m = 1$, i.e., test $AR(1)$ autocorrelations."
   ]
  },
  {
   "cell_type": "code",
   "execution_count": 11,
   "metadata": {},
   "outputs": [],
   "source": [
    "X_bg = np.empty((n-1, K))\n",
    "X_bg[:, 0] = ee[0:n-1]\n",
    "X_bg[:, 1:] = data.iloc[1:, 1:]\n",
    "y_bg = ee[1:n]\n",
    "\n",
    "b_bg = inv(X_bg.T @ X_bg) @ (X_bg.T) @ y_bg\n",
    "e2_bg = (y_bg - X_bg @ b_bg) ** 2\n",
    "del_OLS_bg = inv(X_bg.T @ X_bg) @ (X_bg.T) @ e2_bg\n",
    "e2_fitted_bg = X_bg @ del_OLS_bg\n",
    "\n",
    "SST_bg = np.sum((e2_bg - np.mean(e2_bg))**2)\n",
    "SSE_bg = np.sum((e2_fitted_bg - np.mean(e2_bg))**2)  \n",
    "R2_bg = SSE_bg / SST_bg  \n",
    "\n",
    "LM_bg = (n-1) * R2_bg\n",
    "chi2_rv_bg = stats.chi2(df=1) \n",
    "p_val_bg = 1 - chi2_rv_bg.cdf(LM_bg)  "
   ]
  },
  {
   "cell_type": "code",
   "execution_count": 13,
   "metadata": {},
   "outputs": [
    {
     "data": {
      "text/plain": [
       "0.1878"
      ]
     },
     "metadata": {},
     "output_type": "display_data"
    },
    {
     "data": {
      "text/plain": [
       "0.0"
      ]
     },
     "metadata": {},
     "output_type": "display_data"
    }
   ],
   "source": [
    "display(R2_bg.round(4), p_val_bg.round(4))"
   ]
  },
  {
   "cell_type": "markdown",
   "metadata": {},
   "source": [
    "##### Case 2. General m-values"
   ]
  },
  {
   "cell_type": "code",
   "execution_count": null,
   "metadata": {
    "scrolled": false
   },
   "outputs": [],
   "source": [
    "m = np.random.random_integers(106) # randomly select a m in (1, 106)\n",
    "X_bg1 = np.empty((n-m, m+K-1))\n",
    "\n",
    "for i in range(m):\n",
    "    X_bg1[:, i] = ee[0:n-m]\n",
    "\n",
    "X_bg1[:, m:] = data.iloc[m:, 1:]\n",
    "y_bg1 = ee[m:n]\n",
    "\n",
    "b_bg1 = inv(X_bg1.T @ X_bg1) @ (X_bg1.T) @ y_bg1\n",
    "e2_bg1 = (y_bg1 - X_bg1 @ b_bg1) ** 2\n",
    "del_OLS_bg1 = inv(X_bg1.T @ X_bg1) @ (X_bg1.T) @ e2_bg1\n",
    "e2_fitted_bg1 = X_bg1 @ del_OLS_bg1\n",
    "\n",
    "SST_bg1 = np.sum((e2_bg1 - np.mean(e2_bg1))**2)\n",
    "SSE_bg1 = np.sum((e2_fitted_bg1 - np.mean(e2_bg1))**2)  \n",
    "R2_bg1 = SSE_bg1 / SST_bg1\n",
    "\n",
    "LM_bg1 = (n-K+1) * R2_bg1\n",
    "chi2_rv_bg1 = stats.chi2(df=K-1) \n",
    "p_val_bg1 = 1 - chi2_rv_bg1.cdf(LM_bg1)  "
   ]
  },
  {
   "cell_type": "code",
   "execution_count": 59,
   "metadata": {},
   "outputs": [
    {
     "data": {
      "text/plain": [
       "(1.8622937014028315e+31, 0.0)"
      ]
     },
     "execution_count": 59,
     "metadata": {},
     "output_type": "execute_result"
    }
   ],
   "source": [
    "R2_bg1, p_val_bg1"
   ]
  },
  {
   "cell_type": "markdown",
   "metadata": {},
   "source": [
    "#### Compared with the result of method 1, is strict exogeneity a reasonable assumption to make?"
   ]
  },
  {
   "cell_type": "markdown",
   "metadata": {},
   "source": [
    "Comparing with the result of method1, the stirct exogeneity is reasonable due to the p-value of BG test."
   ]
  },
  {
   "cell_type": "code",
   "execution_count": null,
   "metadata": {},
   "outputs": [],
   "source": []
  },
  {
   "cell_type": "markdown",
   "metadata": {},
   "source": [
    "#### Method 3. The Box-Pierce Q Test and the Ljung-Box Q Test\n",
    "\n",
    "Define the sample autocorrelation coefficient as\n",
    "\n",
    "\\begin{equation}\n",
    "    \\hat \\rho_j \\equiv \n",
    "    \\frac{\\sum_{t=j+1}^n e_t e_{t-j}}{\\sum_{t=1}^n e_t^2},\n",
    "    \\quad j = 1, 2, \\cdots, m.\n",
    "\\end{equation}\n",
    "\n",
    "Then the Box-Pierce Q test statistic is \n",
    "\n",
    "\\begin{equation}\n",
    "    Q_{BP} \\equiv n \\sum_{j=1}^m \\hat \\rho_j^2\n",
    "    \\overset{d}{\\longrightarrow} \\chi^2 (m)\n",
    "\\end{equation}\n",
    "\n",
    "and the Ljung-Box Q test statistic is \n",
    "\n",
    "\\begin{equation}\n",
    "    Q_{LB} \\equiv n(n+2) \\sum_{j=1}^m\n",
    "    \\frac{\\hat \\rho_j^2}{n-j}\n",
    "    \\overset{d}{\\longrightarrow} \\chi^2(m).\n",
    "\\end{equation}"
   ]
  },
  {
   "cell_type": "code",
   "execution_count": 14,
   "metadata": {},
   "outputs": [],
   "source": [
    "m = min(int(n/2)-3, 40)    # define the m\n",
    "\n",
    "e2_sum1 = 0\n",
    "numerator1 = 0\n",
    "rho_hat2 = 0\n",
    "fraction = 0\n",
    "\n",
    "# calculate the denominator of rho_j\n",
    "for t in range(n):\n",
    "    e2_sum1 += ee[t] ** 2\n",
    "\n",
    "# calculate the sum of rho_j^2 and the sum of rho_j^2 / (n-j)    \n",
    "for j in (1, m):\n",
    "    for t in range(j, n):\n",
    "        numerator1 += ee[t] * ee[t-j]\n",
    "    rho_hat2 += (numerator1 / e2_sum1) ** 2\n",
    "    fraction += (numerator1 / e2_sum1) ** 2 / (n-j)\n",
    "\n",
    "# calculate the BP Q test and LB Q test statistic\n",
    "Q_bp = n *  rho_hat2\n",
    "Q_lb = n * (n+2) * fraction\n",
    "\n",
    "# calculate the p-values of the BP Q test and LB Q test\n",
    "chi2_rv = stats.chi2(df=m) \n",
    "p_val_bp = 1 - chi2_rv.cdf(Q_bp)\n",
    "p_val_lb = 1 - chi2_rv.cdf(Q_lb)"
   ]
  },
  {
   "cell_type": "code",
   "execution_count": 15,
   "metadata": {
    "scrolled": true
   },
   "outputs": [
    {
     "data": {
      "text/plain": [
       "9.135230387799037"
      ]
     },
     "metadata": {},
     "output_type": "display_data"
    },
    {
     "data": {
      "text/plain": [
       "9.871530859705667"
      ]
     },
     "metadata": {},
     "output_type": "display_data"
    },
    {
     "data": {
      "text/plain": [
       "0.9999999150725318"
      ]
     },
     "metadata": {},
     "output_type": "display_data"
    },
    {
     "data": {
      "text/plain": [
       "0.9999997168652434"
      ]
     },
     "metadata": {},
     "output_type": "display_data"
    }
   ],
   "source": [
    "display(Q_bp, Q_lb, p_val_bp, p_val_lb)"
   ]
  },
  {
   "cell_type": "code",
   "execution_count": null,
   "metadata": {},
   "outputs": [],
   "source": []
  },
  {
   "cell_type": "markdown",
   "metadata": {},
   "source": [
    "#### Method 4. The Durbin-Watson (DW) Test\n",
    "\n",
    "The DW test statistic is\n",
    "\n",
    "\\begin{equation}\n",
    "    DW \\equiv \\frac{\\sum_{t=2}^n (e_t - e_{t-1})^2 }{\\sum_{t=1}^n e_t^2}\n",
    "    \\approx 2 (1 - \\hat \\rho_1)\n",
    "\\end{equation}\n",
    "\n",
    "In particular, we have:\n",
    "- When $DW = 2$, $\\hat \\rho_1 \\approx 0$, no serial correlation.\n",
    "- When $DW = 0$, $\\hat \\rho_1 \\approx 1$, positive serial correlation.\n",
    "- When $DW = 4$, $\\hat \\rho_1 \\approx -1$, negative serial correlation."
   ]
  },
  {
   "cell_type": "code",
   "execution_count": 16,
   "metadata": {},
   "outputs": [],
   "source": [
    "# calculate the denominator of DW\n",
    "e2_sum2 = 0\n",
    "for t in range(n):\n",
    "    e2_sum2 += ee[t] ** 2\n",
    "\n",
    "# calculate the numerator of DW\n",
    "numerator2 = 0\n",
    "for t in range(n-1):\n",
    "    numerator2 += (ee[t+1] - ee[t]) ** 2\n",
    "\n",
    "# calculate the DW and rho_1\n",
    "DW = numerator2 / e2_sum2\n",
    "rho_hat1 = 1 - DW/2"
   ]
  },
  {
   "cell_type": "code",
   "execution_count": 18,
   "metadata": {},
   "outputs": [
    {
     "data": {
      "text/plain": [
       "(1.43, 0.285)"
      ]
     },
     "execution_count": 18,
     "metadata": {},
     "output_type": "execute_result"
    }
   ],
   "source": [
    "DW.round(4), rho_hat1.round(4)"
   ]
  },
  {
   "cell_type": "code",
   "execution_count": null,
   "metadata": {},
   "outputs": [],
   "source": []
  },
  {
   "cell_type": "markdown",
   "metadata": {},
   "source": [
    "## Part (iii).\n",
    "\n",
    "### The Newey-West Method\n",
    "\n",
    "When there is serial correlation, the robust standard error $SE^*(b_k)$ does not work well, but we can use\n",
    "\n",
    "\\begin{equation}\n",
    "    \\text{OLS} \\; + \\; \\text{Heteroskedasticity and Autocorrelation Consistent Standard Error (HACSE or HAC)}.\n",
    "\\end{equation}\n",
    "\n",
    "This is the so called Newey-West method of estimation. \n",
    "\n",
    "In class, we showed that under Assumptions L1-L5 (the large sample assumptions), we have\n",
    "\n",
    "\\begin{equation}\n",
    "    \\sqrt{n} (b-\\beta) \\overset{d}{\\longrightarrow} N\\left(0, \\text{Avar} (b) \\right),\n",
    "\\end{equation}\n",
    "where\n",
    "\n",
    "\\begin{equation}\n",
    "    \\text{Avar}(b) = [\\mathbb{E} (x_i x_i')]^{-1} S [\\mathbb{E} (x_i x_i')]^{-1}  \n",
    "    \\quad \\text{with } \\; S = \\mathbb{E} (g_i g_i') = \\mathbb{E} (\\epsilon_i^2 x_i x_i').\n",
    "\\end{equation}\n",
    "\n",
    "Under some regularity conditions, one can show that\n",
    "\n",
    "\\begin{equation}\n",
    "    S_{XX}^{-1} \\hat Q S_{XX}^{-1} \\overset{p}{\\longrightarrow} \\text{Avar} (b),\n",
    "\\end{equation}\n",
    "\n",
    "where\n",
    "\\begin{equation}\n",
    "    S_{XX} = \\frac{1}{n} X'X = \\frac{1}{n} \\sum_{i=1}^n x_i x_i'\n",
    "\\end{equation}\n",
    "and\n",
    "\\begin{equation}\n",
    "    \\hat Q = \\hat S + \n",
    "        \\frac{1}{n} \\sum_{j=1}^p \\sum_{t=j+1}^n \n",
    "        \\left(\n",
    "            1 - \\frac{j}{p+1}\n",
    "        \\right)\n",
    "        e_t e_{t-j} \\left(x_t x_{t-j}' + x_{t-j} x_t' \\right)\n",
    "\\end{equation}\n",
    "with\n",
    "\\begin{equation}\n",
    "    \\hat S = \\frac{1}{n} \\sum_{i=1}^n e_i^2 x_i x_i'.\n",
    "\\end{equation}\n",
    "\n",
    "Here $p$ is the truncation parameter, and in practice, the suggested value is the integer part of\n",
    "\n",
    "\\begin{equation}\n",
    "    p = n^{1/4} \\quad \\text{or} \\quad p = 0.75 n^{1/3}.\n",
    "\\end{equation}\n",
    "\n",
    "The HAC standard error of the OLS estimator $b_k$ is then defined by\n",
    "\n",
    "\\begin{equation}\n",
    "    HACSE(b_k) \\equiv \n",
    "    \\sqrt{\\frac{1}{n} \\left( S_{XX}^{-1} \\hat Q S_{XX}^{-1} \\right)_{kk}}\n",
    "\\end{equation}\n"
   ]
  },
  {
   "cell_type": "code",
   "execution_count": 19,
   "metadata": {},
   "outputs": [],
   "source": [
    "S_hat = np.zeros((K, K))\n",
    "Q_hat = np.zeros((K, K))\n",
    "\n",
    "# calculate the S_hat\n",
    "for i in range(n):\n",
    "    ei2 = (y[i] - X[i,:] @ b)**2                        \n",
    "    xpx = X[i,:].reshape((K,1)) @ X[i,:].reshape((1,K))  \n",
    "    S_hat += ei2 * xpx\n",
    "S_hat = S_hat / n           \n",
    "\n",
    "p = int(n ** 0.25)       # set p as an int\n",
    "\n",
    "# calculate the Q_hat\n",
    "for j in range(p):\n",
    "    part1 = 1 - (j+1)/(p+1)\n",
    "    for t in range(j+1, n):\n",
    "        part2 = ee[t] * ee[t-j]\n",
    "        part3 = X[t, :].reshape((K, 1)) @ X[t-j, :].reshape((1, K))\n",
    "        part4 = X[t-j, :].reshape((K, 1)) @ X[t, :].reshape((1, K))\n",
    "        Q_hat += part1 * part2 * (part3 + part4)\n",
    "\n",
    "Q_hat = S_hat + Q_hat / n\n",
    "\n",
    "# calculate the HACSE\n",
    "HACSE_squ = inv((X.T@X) / n) @ Q_hat @ inv((X.T@X) / n)\n",
    "HACSE = np.sqrt(np.diag(HACSE_squ) / n)"
   ]
  },
  {
   "cell_type": "code",
   "execution_count": 20,
   "metadata": {},
   "outputs": [
    {
     "data": {
      "text/plain": [
       "array([0.141 , 0.0083, 0.0092, 0.0306, 0.0377, 0.0007, 0.0354, 0.0372,\n",
       "       0.0395, 0.0414, 0.0456, 0.0506, 0.0369, 0.0424, 0.0443, 0.0435,\n",
       "       0.0388])"
      ]
     },
     "execution_count": 20,
     "metadata": {},
     "output_type": "execute_result"
    }
   ],
   "source": [
    "HACSE.round(4)"
   ]
  },
  {
   "cell_type": "code",
   "execution_count": null,
   "metadata": {},
   "outputs": [],
   "source": []
  },
  {
   "cell_type": "markdown",
   "metadata": {},
   "source": [
    "#### Hypothesis test based on HACSE\n",
    "\n",
    "We work with the large sample theory. Under the null hypothesis \n",
    "\n",
    "\\begin{equation}\n",
    "    H_0 : \\beta_k = \\bar \\beta_k,\n",
    "\\end{equation}\n",
    "\n",
    "it follows that \n",
    "\n",
    "\\begin{equation}\n",
    "    \\frac{b_k - \\bar \\beta_k}{HACSE(b_k)} \n",
    "    \\overset{d}{\\longrightarrow} N(0,1).\n",
    "\\end{equation}"
   ]
  },
  {
   "cell_type": "code",
   "execution_count": 21,
   "metadata": {},
   "outputs": [],
   "source": [
    "n_nw = b / HACSE\n",
    "n_rv = stats.norm(0, 1)\n",
    "p_val_nw = 2 * (1 - n_rv.cdf(abs(n_nw)))"
   ]
  },
  {
   "cell_type": "code",
   "execution_count": 22,
   "metadata": {},
   "outputs": [
    {
     "data": {
      "text/plain": [
       "array([0.000e+00, 9.396e-01, 9.290e-02, 2.820e-02, 4.334e-01, 1.500e-03,\n",
       "       9.806e-01, 9.980e-01, 1.408e-01, 8.350e-02, 2.640e-02, 5.000e-04,\n",
       "       0.000e+00, 2.000e-04, 2.260e-02, 7.482e-01, 8.125e-01])"
      ]
     },
     "execution_count": 22,
     "metadata": {},
     "output_type": "execute_result"
    }
   ],
   "source": [
    "p_val_nw.round(4)"
   ]
  },
  {
   "cell_type": "code",
   "execution_count": null,
   "metadata": {},
   "outputs": [],
   "source": []
  },
  {
   "cell_type": "markdown",
   "metadata": {},
   "source": [
    "## Part (iv).\n",
    "\n",
    "### Feasible Generalized Least Squares (FGLS)\n",
    "\n",
    "Suppose the original regression model is\n",
    "\n",
    "\\begin{equation}\n",
    "    y = X \\beta + \\epsilon,\n",
    "\\end{equation}\n",
    "\n",
    "where\n",
    "\n",
    "\\begin{equation}\n",
    "    \\epsilon_t = \\rho \\epsilon_{t-1} + u_t,\n",
    "    \\quad |\\rho| < 1\n",
    "    \\quad \\text{and} \\quad\n",
    "    \\{u_t\\} \\text{ is a white noise process}.\n",
    "\\end{equation}\n",
    "\n",
    "Let $\\rho_j \\equiv \\text{Cov} (\\epsilon_t, \\epsilon_{t-j} \\mid X)$. Then \n",
    "\n",
    "\\begin{equation}\n",
    "    \\rho_j = \\rho^j \\sigma^2, \n",
    "    \\quad \\text{where} \\quad \n",
    "    \\sigma^2 = \\frac{\\sigma_u^2}{1-\\rho^2}\n",
    "    \\quad \\text{and} \\quad\n",
    "    \\sigma_u^2 = \\text{Var}\\left(u_t \\right).\n",
    "\\end{equation}\n",
    "\n",
    "Hence,\n",
    "\n",
    "\\begin{equation}\n",
    "    \\text{Var} (\\epsilon \\mid X) \n",
    "    = \\sigma^2 \n",
    "    \\begin{bmatrix}\n",
    "        1 & \\rho & \\cdots & \\rho^{n-1} \\\\\n",
    "        \\rho & 1 & \\cdots & \\rho^{n-2} \\\\\n",
    "        \\vdots & \\vdots & & \\vdots \\\\\n",
    "        \\rho^{n-1} & \\rho^{n-2} & \\cdots & 1 \n",
    "    \\end{bmatrix}\n",
    "    = \\sigma^2 V.\n",
    "\\end{equation}\n",
    "\n",
    "Indeed, $V$ can be factorized as $V^{-1} = C'C$, where\n",
    "\n",
    "\\begin{equation}\n",
    "    C \n",
    "    = \\frac{1}{\\sqrt{1-\\rho^2}} \n",
    "    \\begin{bmatrix}\n",
    "        \\sqrt{1-\\rho^2} & 0 & \\cdots & 0 & 0 \\\\\n",
    "        -\\rho & 1 & \\cdots & 0 & 0 \\\\\n",
    "        0 & -\\rho & \\cdots & 0 & 0 \\\\\n",
    "        \\vdots & \\vdots & & \\vdots & \\vdots \\\\\n",
    "        0 & 0 & \\cdots & -\\rho & 1 \n",
    "    \\end{bmatrix}.\n",
    "\\end{equation}\n",
    "\n",
    "\n",
    "#### The Prais-Winstern (PW) method\n",
    "\n",
    "Transform the original problem by defining\n",
    "\n",
    "\\begin{equation}\n",
    "    \\tilde y = \\sqrt{1- \\rho^2} C y,\n",
    "    \\quad \\tilde X = \\sqrt{1- \\rho^2} C X\n",
    "    \\quad \\text{and} \\quad\n",
    "    \\tilde \\epsilon = \\sqrt{1- \\rho^2} C \\epsilon,\n",
    "\\end{equation}\n",
    "\n",
    "and then run the OLS regression\n",
    "\n",
    "\\begin{equation}\n",
    "    \\tilde y = \\tilde X \\beta + \\tilde \\epsilon.    \\qquad  (*)\n",
    "\\end{equation}\n",
    "\n",
    "#### The Cochrane-Orcutt (CO) method\n",
    "\n",
    "- Run the same OLS regression as $(*)$, but now drop the first 'transformed' observation.\n",
    "\n",
    "\n",
    "#### FGLS\n",
    "\n",
    "In practice, $\\rho$ is not observable, but we can estimate it via OLS:\n",
    "\n",
    "\\begin{equation}\n",
    "    e_t = \\rho e_{t-1} + error.\n",
    "\\end{equation}\n",
    "\n",
    "Moreover, both the Prais-Winstern method and the Cochrane-Orcutt method are used in iterative schemes.\n",
    "\n",
    "Step 1. Do OLS and get\n",
    "\\begin{equation}\n",
    "    y = Xb + e.\n",
    "\\end{equation}\n",
    "\n",
    "Step 2. Do OLS and get \n",
    "\\begin{equation}\n",
    "    e_t = \\hat \\rho^{(0)} e_{t-1} + residual.\n",
    "\\end{equation}\n",
    "\n",
    "Step 3. While \n",
    "\n",
    "\\begin{equation}\n",
    "    \\left|\\hat \\rho^{(i+1)} - \\hat \\rho^{(i)} \\right| > \\delta \n",
    "    \\quad \\text{or} \\quad \n",
    "    \\text{distance} \\left(\\hat \\beta^{(i+1)}, \\hat \\beta^{(i)} \\right) > \\delta,\n",
    "\\end{equation}\n",
    "\n",
    "where $\\delta$ is the tolerance level (typically a very small number),\n",
    "\n",
    "- do FGLS based on $\\hat \\rho^{(i)}$, and get the FGLS estimator $\\hat \\beta^{(i)}$, and then caculate the updated residual\n",
    "    \\begin{equation}\n",
    "        e^{(i)} = y - X \\hat \\beta^{(i)} ,\n",
    "    \\end{equation}\n",
    "\n",
    "- do OLS and get \n",
    "    \\begin{equation}\n",
    "        e_t^{(i)} = \\hat \\rho^{(i+1)} e_{t-1}^{(i)} + residual.\n",
    "    \\end{equation}"
   ]
  },
  {
   "cell_type": "markdown",
   "metadata": {},
   "source": [
    "#### The PW method"
   ]
  },
  {
   "cell_type": "code",
   "execution_count": 23,
   "metadata": {},
   "outputs": [],
   "source": [
    "Xe = np.empty((n-1, 1))\n",
    "Xe[:, 0] = ee[0:n-1]\n",
    "ye = ee[1:n]\n",
    "rho_0 = inv(Xe.T @ Xe) @ (Xe.T) @ ye\n",
    "rho_0 = rho_0.item()\n",
    "\n",
    "b_0 = b\n",
    "\n",
    "tol = 1e-4\n",
    "err = tol + 1\n",
    "\n",
    "while err > tol:\n",
    "    elm1 = np.ones(n)\n",
    "    elm1[0] = np.sqrt(1 - rho_0**2)\n",
    "    elm2 = -rho_0 * np.ones(n-1)\n",
    "    elm = [elm1, elm2]\n",
    "    D = diags(elm, [0, -1]).todense()\n",
    "    y_tld = D @ y\n",
    "    X_tld = D @ X\n",
    "    b_1 = inv(X_tld.T @ X_tld) @ (X_tld.T) @ y_tld\n",
    "    b_1 = np.asarray(b_1).flatten()\n",
    "    \n",
    "    e1 = y - X @ b_1\n",
    "    Xe1 = np.empty((n-1, 1))\n",
    "    Xe1[:, 0] = e1[0:n-1]\n",
    "    ye1 = e1[1:n]\n",
    "    rho_1 = inv(Xe1.T @ Xe1) @ (Xe1.T) @ ye1\n",
    "    \n",
    "    err = max(abs(rho_1 - rho_0), max(abs(b_1 - b_0)))\n",
    "    b_0 = b_1\n",
    "    rho_0 = rho_1\n",
    "    \n",
    "e_pw = y_tld - X_tld @ b_1\n",
    "e_pw = np.asarray(e_pw).flatten()\n",
    "s2_pw = e_pw @ e_pw / (n-K)\n",
    "SE_pw = np.sqrt(np.diag(s2_pw * inv(X_tld.T @ X_tld)))\n",
    "t_pw = b_1 / SE_pw\n",
    "t_rv_pw = stats.t(n-K)\n",
    "p_pw = 2 * (1 - t_rv_pw.cdf(abs(t_pw)))"
   ]
  },
  {
   "cell_type": "code",
   "execution_count": 24,
   "metadata": {},
   "outputs": [
    {
     "data": {
      "text/plain": [
       "array([ 1.0087e+00,  6.0000e-04, -1.3200e-02,  6.4100e-02, -2.4800e-02,\n",
       "       -2.1000e-03, -9.0000e-04, -1.2000e-03,  5.7600e-02,  7.1800e-02,\n",
       "        1.0070e-01,  1.7480e-01,  1.9200e-01,  1.5990e-01,  1.0080e-01,\n",
       "        1.3300e-02,  8.5000e-03])"
      ]
     },
     "metadata": {},
     "output_type": "display_data"
    },
    {
     "data": {
      "text/plain": [
       "array([0.1016, 0.005 , 0.0071, 0.0268, 0.0301, 0.0005, 0.0244, 0.0263,\n",
       "       0.0276, 0.0279, 0.0281, 0.0273, 0.0276, 0.0283, 0.0277, 0.0273,\n",
       "       0.0246])"
      ]
     },
     "metadata": {},
     "output_type": "display_data"
    },
    {
     "data": {
      "text/plain": [
       "array([ 9.9277,  0.1232, -1.8548,  2.3936, -0.8242, -3.9221, -0.0372,\n",
       "       -0.0442,  2.0862,  2.578 ,  3.5898,  6.4045,  6.9574,  5.6472,\n",
       "        3.6381,  0.4873,  0.3479])"
      ]
     },
     "metadata": {},
     "output_type": "display_data"
    },
    {
     "data": {
      "text/plain": [
       "array([0.000e+00, 9.022e-01, 6.690e-02, 1.870e-02, 4.120e-01, 2.000e-04,\n",
       "       9.704e-01, 9.648e-01, 3.980e-02, 1.150e-02, 5.000e-04, 0.000e+00,\n",
       "       0.000e+00, 0.000e+00, 5.000e-04, 6.272e-01, 7.287e-01])"
      ]
     },
     "metadata": {},
     "output_type": "display_data"
    }
   ],
   "source": [
    "ls2 = [b_1, SE_pw, t_pw, p_pw]\n",
    "for v in ls2:\n",
    "    display(v.round(4))"
   ]
  },
  {
   "cell_type": "markdown",
   "metadata": {},
   "source": [
    "#### The CO method"
   ]
  },
  {
   "cell_type": "code",
   "execution_count": 25,
   "metadata": {},
   "outputs": [],
   "source": [
    "Xe = np.empty((n-1, 1))\n",
    "Xe[:, 0] = ee[0:n-1]\n",
    "ye = ee[1:n]\n",
    "rho_0 = inv(Xe.T @ Xe) @ (Xe.T) @ ye\n",
    "rho_0 = rho_0.item()\n",
    "\n",
    "b_0 = b\n",
    "\n",
    "tol = 1e-4\n",
    "err = tol + 1\n",
    "\n",
    "while err > tol:\n",
    "    D_c = np.delete(D, 0, axis=0)\n",
    "    y_tldc = D_c @ y\n",
    "    X_tldc = D_c @ X\n",
    "    b_2 = inv(X_tldc.T @ X_tldc) @ (X_tldc.T) @ y_tldc\n",
    "    b_2 = np.asarray(b_2).flatten()\n",
    "    \n",
    "    e2 = y - X @ b_2\n",
    "    Xe2 = np.empty((n-1, 1))\n",
    "    Xe2[:, 0] = e2[0:n-1]\n",
    "    ye2 = e2[1:n]\n",
    "    rho_2 = inv(Xe2.T @ Xe2) @ (Xe2.T) @ ye2\n",
    "    \n",
    "    err = max(abs(rho_2 - rho_0), max(abs(b_2 - b_0)))\n",
    "    b_0 = b_2\n",
    "    rho_0 = rho_2\n",
    "    \n",
    "e_co = y_tldc - X_tldc @ b_2\n",
    "e_co = np.asarray(e_co).flatten()\n",
    "s2_co = e_co @ e_co / (n-K)\n",
    "SE_co = np.sqrt(np.diag(s2_co * inv(X_tldc.T @ X_tldc)))\n",
    "t_co = b_2 / SE_co\n",
    "t_rv_co = stats.t(n-K)\n",
    "p_co = 2 * (1 - t_rv_co.cdf(abs(t_co)))"
   ]
  },
  {
   "cell_type": "code",
   "execution_count": 27,
   "metadata": {},
   "outputs": [
    {
     "data": {
      "text/plain": [
       "array([ 1.0139e+00,  6.0000e-04, -1.3500e-02,  6.4700e-02, -2.4500e-02,\n",
       "       -2.2000e-03, -1.9000e-03, -2.5000e-03,  5.6000e-02,  7.0200e-02,\n",
       "        9.9200e-02,  1.7340e-01,  1.9050e-01,  1.5840e-01,  9.9300e-02,\n",
       "        1.2000e-02,  7.4000e-03])"
      ]
     },
     "metadata": {},
     "output_type": "display_data"
    },
    {
     "data": {
      "text/plain": [
       "array([0.1049, 0.005 , 0.0073, 0.0269, 0.0301, 0.0006, 0.0249, 0.0272,\n",
       "       0.0286, 0.0291, 0.0291, 0.0281, 0.0286, 0.0294, 0.0287, 0.0281,\n",
       "       0.0252])"
      ]
     },
     "metadata": {},
     "output_type": "display_data"
    },
    {
     "data": {
      "text/plain": [
       "array([ 9.6636,  0.1261, -1.8537,  2.4018, -0.8141, -3.7933, -0.0746,\n",
       "       -0.0931,  1.9567,  2.4099,  3.4057,  6.1659,  6.6596,  5.395 ,\n",
       "        3.4605,  0.4252,  0.2942])"
      ]
     },
     "metadata": {},
     "output_type": "display_data"
    },
    {
     "data": {
      "text/plain": [
       "array([0.000e+00, 9.000e-01, 6.700e-02, 1.830e-02, 4.177e-01, 3.000e-04,\n",
       "       9.407e-01, 9.260e-01, 5.350e-02, 1.800e-02, 1.000e-03, 0.000e+00,\n",
       "       0.000e+00, 0.000e+00, 8.000e-04, 6.717e-01, 7.693e-01])"
      ]
     },
     "metadata": {},
     "output_type": "display_data"
    }
   ],
   "source": [
    "ls3 = [b_2, SE_co, t_co, p_co]\n",
    "for v in ls3:\n",
    "    display(v.round(4))"
   ]
  },
  {
   "cell_type": "code",
   "execution_count": null,
   "metadata": {},
   "outputs": [],
   "source": []
  }
 ],
 "metadata": {
  "kernelspec": {
   "display_name": "Python 3",
   "language": "python",
   "name": "python3"
  },
  "language_info": {
   "codemirror_mode": {
    "name": "ipython",
    "version": 3
   },
   "file_extension": ".py",
   "mimetype": "text/x-python",
   "name": "python",
   "nbconvert_exporter": "python",
   "pygments_lexer": "ipython3",
   "version": "3.7.4"
  }
 },
 "nbformat": 4,
 "nbformat_minor": 4
}
